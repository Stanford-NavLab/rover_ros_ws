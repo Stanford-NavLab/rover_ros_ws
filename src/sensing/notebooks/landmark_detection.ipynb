{
 "cells": [
  {
   "cell_type": "code",
   "execution_count": null,
   "metadata": {},
   "outputs": [],
   "source": [
    "%matplotlib widget\n",
    "import numpy as np\n",
    "import os\n",
    "import matplotlib.pyplot as plt\n",
    "from matplotlib import cm\n",
    "import open3d as o3d\n",
    "\n",
    "from planeslam.general import plot_3D_setup\n",
    "from utils import dist_filter, spherical_project\n",
    "\n",
    "%load_ext autoreload\n",
    "%autoreload 2"
   ]
  },
  {
   "cell_type": "code",
   "execution_count": null,
   "metadata": {},
   "outputs": [],
   "source": [
    "# Load the points\n",
    "datapath = os.path.join(os.getcwd(), '..', 'data', '5_15_2022', 'fr_config_3')\n",
    "P = np.load(os.path.join(datapath, 'pc_0.npy'))"
   ]
  },
  {
   "cell_type": "code",
   "execution_count": null,
   "metadata": {},
   "outputs": [],
   "source": [
    "# Plot\n",
    "ax = plot_3D_setup(P)\n",
    "ax.scatter3D(P[:,0], P[:,1], P[:,2], s=1, marker='.') "
   ]
  },
  {
   "cell_type": "code",
   "execution_count": null,
   "metadata": {},
   "outputs": [],
   "source": [
    "# Distance filter\n",
    "P_filter = dist_filter(P, 6)"
   ]
  },
  {
   "cell_type": "code",
   "execution_count": null,
   "metadata": {},
   "outputs": [],
   "source": [
    "# Plot\n",
    "ax = plot_3D_setup(P_filter)\n",
    "ax.scatter3D(P_filter[:,0], P_filter[:,1], P_filter[:,2], s=1, marker='.') "
   ]
  },
  {
   "cell_type": "code",
   "execution_count": null,
   "metadata": {},
   "outputs": [],
   "source": [
    "# Ground removal\n",
    "lidar_height = 0.15\n",
    "P_filter = P_filter[P_filter[:,2] > -lidar_height,:] "
   ]
  },
  {
   "cell_type": "code",
   "execution_count": null,
   "metadata": {},
   "outputs": [],
   "source": [
    "# Plot\n",
    "ax = plot_3D_setup(P_filter)\n",
    "ax.scatter3D(P_filter[:,0], P_filter[:,1], P_filter[:,2], s=1, marker='.') "
   ]
  },
  {
   "cell_type": "code",
   "execution_count": null,
   "metadata": {},
   "outputs": [],
   "source": [
    "# Background (Wall) Removal\n"
   ]
  },
  {
   "cell_type": "code",
   "execution_count": null,
   "metadata": {},
   "outputs": [],
   "source": [
    "# DBSCAN clustering\n",
    "pcd = o3d.geometry.PointCloud()\n",
    "pcd.points = o3d.utility.Vector3dVector(P_filter)"
   ]
  },
  {
   "cell_type": "code",
   "execution_count": null,
   "metadata": {},
   "outputs": [],
   "source": [
    "import time\n",
    "\n",
    "start_time = time.time()\n",
    "labels = np.array(pcd.cluster_dbscan(eps=0.2, min_points=10, print_progress=True))\n",
    "print(time.time() - start_time)\n",
    "clusters = [[] for _ in range(labels.max()+1)]\n",
    "for i in range(len(labels)):\n",
    "    if labels[i] >= 0:\n",
    "        clusters[labels[i]].append(i)"
   ]
  },
  {
   "cell_type": "code",
   "execution_count": null,
   "metadata": {},
   "outputs": [],
   "source": [
    "# Plot\n",
    "ax = plot_3D_setup(P_filter)\n",
    "\n",
    "color_idx = 0\n",
    "\n",
    "for i, c in enumerate(clusters):\n",
    "    cluster_pts = P_filter[c,:]\n",
    "    ax.scatter3D(cluster_pts[:,0], cluster_pts[:,1], cluster_pts[:,2], s=1, color='C'+str(color_idx), marker='.')  \n",
    "    color_idx += 1"
   ]
  },
  {
   "cell_type": "code",
   "execution_count": null,
   "metadata": {},
   "outputs": [],
   "source": [
    "# Cluster centroids\n",
    "cluster_centroids = [np.mean(P_filter[c], axis=0) for c in clusters]\n",
    "cluster_centroids = np.asarray(cluster_centroids)\n",
    "\n",
    "# Sort by distance\n",
    "cluster_dists = np.linalg.norm(cluster_centroids, axis=1)"
   ]
  },
  {
   "cell_type": "code",
   "execution_count": null,
   "metadata": {},
   "outputs": [],
   "source": [
    "num_landmarks = 4\n",
    "landmark_cluster_idxs = np.argsort(cluster_dists)[:num_landmarks]\n",
    "landmark_clusters = [clusters[i] for i in landmark_cluster_idxs]"
   ]
  },
  {
   "cell_type": "code",
   "execution_count": null,
   "metadata": {},
   "outputs": [],
   "source": [
    "# Plot\n",
    "ax = plot_3D_setup(P_filter)\n",
    "\n",
    "color_idx = 0\n",
    "\n",
    "for i, c in enumerate(landmark_clusters):\n",
    "    cluster_pts = P_filter[c,:]\n",
    "    ax.scatter3D(cluster_pts[:,0], cluster_pts[:,1], cluster_pts[:,2], color='C'+str(color_idx), marker='.')  \n",
    "    color_idx += 1"
   ]
  },
  {
   "cell_type": "code",
   "execution_count": null,
   "metadata": {},
   "outputs": [],
   "source": [
    "thetas, phis = spherical_project(P_filter)"
   ]
  },
  {
   "cell_type": "code",
   "execution_count": null,
   "metadata": {},
   "outputs": [],
   "source": [
    "# Color code by distance\n",
    "dists = np.linalg.norm(P_filter, axis=1)\n",
    "min_dist = min(dists)\n",
    "max_dist = max(dists)"
   ]
  },
  {
   "cell_type": "code",
   "execution_count": null,
   "metadata": {},
   "outputs": [],
   "source": [
    "cmap = cm.get_cmap('plasma')\n",
    "c_idx = list(np.interp(dists, [min_dist, max_dist], [255, 0]).astype(int))\n",
    "colors = [cmap.colors[i] for i in c_idx]\n",
    "\n",
    "fig, ax = plt.subplots()\n",
    "c_idx = np.interp(dists, [min_dist, max_dist], [0, 255]).astype(int)\n",
    "ax.scatter(thetas, phis, color=colors, s=1, marker='.')"
   ]
  },
  {
   "cell_type": "code",
   "execution_count": null,
   "metadata": {},
   "outputs": [],
   "source": [
    "# Ground-plane removal?\n",
    "# Background removal?"
   ]
  }
 ],
 "metadata": {
  "interpreter": {
   "hash": "cb468a8bbd71ee67ef9f48802575221c6bc0da5f02cb6cb243ccdc58c1f5deea"
  },
  "kernelspec": {
   "display_name": "Python 3.7.13 ('planeslam')",
   "language": "python",
   "name": "python3"
  },
  "language_info": {
   "codemirror_mode": {
    "name": "ipython",
    "version": 3
   },
   "file_extension": ".py",
   "mimetype": "text/x-python",
   "name": "python",
   "nbconvert_exporter": "python",
   "pygments_lexer": "ipython3",
   "version": "3.7.13"
  },
  "orig_nbformat": 4
 },
 "nbformat": 4,
 "nbformat_minor": 2
}
